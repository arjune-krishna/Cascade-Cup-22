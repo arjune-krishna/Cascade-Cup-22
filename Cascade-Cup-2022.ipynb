{
 "cells": [
  {
   "cell_type": "markdown",
   "id": "8227ea7a-c949-423c-9049-dbbf4370d849",
   "metadata": {},
   "source": [
    "# Notes\n",
    "- Replace nulls with appropriate values - DONE\n",
    "- Deal with time variables - take delta between time variables instead of the variables - DONE\n",
    "- Remove the single duplicate row - DONE\n",
    "- Calculate delivered/alloted ratio for riders - DONE\n",
    "- Include reassignment or not? - NO."
   ]
  },
  {
   "cell_type": "code",
   "execution_count": 1,
   "id": "5b12fef8-2a90-4f89-8055-8ba1e850d365",
   "metadata": {},
   "outputs": [],
   "source": [
    "import pandas as pd\n",
    "import numpy as np\n",
    "import seaborn as sns\n",
    "import matplotlib.pyplot as plt"
   ]
  },
  {
   "cell_type": "code",
   "execution_count": 11,
   "id": "4b8584c1-1677-447e-8796-9aafd971da10",
   "metadata": {},
   "outputs": [
    {
     "data": {
      "text/plain": [
       "order_time                   0\n",
       "order_id                     0\n",
       "order_date                   0\n",
       "allot_time                   0\n",
       "accept_time                157\n",
       "pickup_time               2421\n",
       "delivered_time            5218\n",
       "rider_id                     0\n",
       "first_mile_distance          0\n",
       "last_mile_distance           0\n",
       "alloted_orders           16948\n",
       "delivered_orders         17341\n",
       "cancelled                    0\n",
       "undelivered_orders       17341\n",
       "lifetime_order_count        53\n",
       "reassignment_method     436256\n",
       "reassignment_reason     436247\n",
       "reassigned_order        436247\n",
       "session_time              3675\n",
       "cancelled_time          444782\n",
       "dtype: int64"
      ]
     },
     "execution_count": 11,
     "metadata": {},
     "output_type": "execute_result"
    }
   ],
   "source": [
    "train = pd.read_csv('train.csv')\n",
    "train.isnull().sum()"
   ]
  },
  {
   "cell_type": "code",
   "execution_count": 12,
   "id": "1277dc3b-a042-489c-9ed0-03aef1a070d6",
   "metadata": {
    "tags": []
   },
   "outputs": [
    {
     "data": {
      "text/html": [
       "<div>\n",
       "<style scoped>\n",
       "    .dataframe tbody tr th:only-of-type {\n",
       "        vertical-align: middle;\n",
       "    }\n",
       "\n",
       "    .dataframe tbody tr th {\n",
       "        vertical-align: top;\n",
       "    }\n",
       "\n",
       "    .dataframe thead th {\n",
       "        text-align: right;\n",
       "    }\n",
       "</style>\n",
       "<table border=\"1\" class=\"dataframe\">\n",
       "  <thead>\n",
       "    <tr style=\"text-align: right;\">\n",
       "      <th></th>\n",
       "      <th>order_time</th>\n",
       "      <th>order_id</th>\n",
       "      <th>order_date</th>\n",
       "      <th>allot_time</th>\n",
       "      <th>accept_time</th>\n",
       "      <th>pickup_time</th>\n",
       "      <th>delivered_time</th>\n",
       "      <th>rider_id</th>\n",
       "      <th>first_mile_distance</th>\n",
       "      <th>last_mile_distance</th>\n",
       "      <th>alloted_orders</th>\n",
       "      <th>delivered_orders</th>\n",
       "      <th>cancelled</th>\n",
       "      <th>undelivered_orders</th>\n",
       "      <th>lifetime_order_count</th>\n",
       "      <th>reassignment_method</th>\n",
       "      <th>reassignment_reason</th>\n",
       "      <th>reassigned_order</th>\n",
       "      <th>session_time</th>\n",
       "      <th>cancelled_time</th>\n",
       "    </tr>\n",
       "  </thead>\n",
       "  <tbody>\n",
       "    <tr>\n",
       "      <th>0</th>\n",
       "      <td>2021-01-26 02:21:35</td>\n",
       "      <td>556753</td>\n",
       "      <td>2021-01-26 00:00:00</td>\n",
       "      <td>2021-01-26 02:21:59</td>\n",
       "      <td>2021-01-26 02:22:08</td>\n",
       "      <td>2021-01-26 02:32:51</td>\n",
       "      <td>2021-01-26 02:49:47</td>\n",
       "      <td>11696</td>\n",
       "      <td>1.5666</td>\n",
       "      <td>2.65</td>\n",
       "      <td>46.0</td>\n",
       "      <td>46.0</td>\n",
       "      <td>0</td>\n",
       "      <td>0.0</td>\n",
       "      <td>621.0</td>\n",
       "      <td>NaN</td>\n",
       "      <td>NaN</td>\n",
       "      <td>NaN</td>\n",
       "      <td>NaN</td>\n",
       "      <td>NaN</td>\n",
       "    </tr>\n",
       "    <tr>\n",
       "      <th>1</th>\n",
       "      <td>2021-01-26 02:33:16</td>\n",
       "      <td>556754</td>\n",
       "      <td>2021-01-26 00:00:00</td>\n",
       "      <td>2021-01-26 02:33:57</td>\n",
       "      <td>2021-01-26 02:34:45</td>\n",
       "      <td>2021-01-26 02:50:25</td>\n",
       "      <td>2021-01-26 03:11:15</td>\n",
       "      <td>18117</td>\n",
       "      <td>2.5207</td>\n",
       "      <td>2.76</td>\n",
       "      <td>8.0</td>\n",
       "      <td>8.0</td>\n",
       "      <td>0</td>\n",
       "      <td>0.0</td>\n",
       "      <td>105.0</td>\n",
       "      <td>NaN</td>\n",
       "      <td>NaN</td>\n",
       "      <td>NaN</td>\n",
       "      <td>3.266667</td>\n",
       "      <td>NaN</td>\n",
       "    </tr>\n",
       "    <tr>\n",
       "      <th>2</th>\n",
       "      <td>2021-01-26 02:39:49</td>\n",
       "      <td>556755</td>\n",
       "      <td>2021-01-26 00:00:00</td>\n",
       "      <td>2021-01-26 02:39:57</td>\n",
       "      <td>2021-01-26 02:40:13</td>\n",
       "      <td>2021-01-26 02:56:00</td>\n",
       "      <td>2021-01-26 03:12:46</td>\n",
       "      <td>18623</td>\n",
       "      <td>2.2074</td>\n",
       "      <td>4.80</td>\n",
       "      <td>1.0</td>\n",
       "      <td>1.0</td>\n",
       "      <td>0</td>\n",
       "      <td>0.0</td>\n",
       "      <td>66.0</td>\n",
       "      <td>NaN</td>\n",
       "      <td>NaN</td>\n",
       "      <td>NaN</td>\n",
       "      <td>9.816667</td>\n",
       "      <td>NaN</td>\n",
       "    </tr>\n",
       "    <tr>\n",
       "      <th>3</th>\n",
       "      <td>2021-01-26 02:47:53</td>\n",
       "      <td>556756</td>\n",
       "      <td>2021-01-26 00:00:00</td>\n",
       "      <td>2021-01-26 02:48:25</td>\n",
       "      <td>2021-01-26 02:49:06</td>\n",
       "      <td>2021-01-26 03:21:51</td>\n",
       "      <td>2021-01-26 03:41:05</td>\n",
       "      <td>15945</td>\n",
       "      <td>2.1894</td>\n",
       "      <td>6.38</td>\n",
       "      <td>1.0</td>\n",
       "      <td>1.0</td>\n",
       "      <td>0</td>\n",
       "      <td>0.0</td>\n",
       "      <td>127.0</td>\n",
       "      <td>NaN</td>\n",
       "      <td>NaN</td>\n",
       "      <td>NaN</td>\n",
       "      <td>17.533333</td>\n",
       "      <td>NaN</td>\n",
       "    </tr>\n",
       "    <tr>\n",
       "      <th>4</th>\n",
       "      <td>2021-01-26 03:06:30</td>\n",
       "      <td>556757</td>\n",
       "      <td>2021-01-26 00:00:00</td>\n",
       "      <td>2021-01-26 03:07:21</td>\n",
       "      <td>2021-01-26 03:07:57</td>\n",
       "      <td>2021-01-26 03:31:38</td>\n",
       "      <td>2021-01-26 04:00:15</td>\n",
       "      <td>17589</td>\n",
       "      <td>2.7870</td>\n",
       "      <td>4.01</td>\n",
       "      <td>34.0</td>\n",
       "      <td>34.0</td>\n",
       "      <td>0</td>\n",
       "      <td>0.0</td>\n",
       "      <td>84.0</td>\n",
       "      <td>NaN</td>\n",
       "      <td>NaN</td>\n",
       "      <td>NaN</td>\n",
       "      <td>1.350000</td>\n",
       "      <td>NaN</td>\n",
       "    </tr>\n",
       "  </tbody>\n",
       "</table>\n",
       "</div>"
      ],
      "text/plain": [
       "            order_time  order_id           order_date           allot_time  \\\n",
       "0  2021-01-26 02:21:35    556753  2021-01-26 00:00:00  2021-01-26 02:21:59   \n",
       "1  2021-01-26 02:33:16    556754  2021-01-26 00:00:00  2021-01-26 02:33:57   \n",
       "2  2021-01-26 02:39:49    556755  2021-01-26 00:00:00  2021-01-26 02:39:57   \n",
       "3  2021-01-26 02:47:53    556756  2021-01-26 00:00:00  2021-01-26 02:48:25   \n",
       "4  2021-01-26 03:06:30    556757  2021-01-26 00:00:00  2021-01-26 03:07:21   \n",
       "\n",
       "           accept_time          pickup_time       delivered_time  rider_id  \\\n",
       "0  2021-01-26 02:22:08  2021-01-26 02:32:51  2021-01-26 02:49:47     11696   \n",
       "1  2021-01-26 02:34:45  2021-01-26 02:50:25  2021-01-26 03:11:15     18117   \n",
       "2  2021-01-26 02:40:13  2021-01-26 02:56:00  2021-01-26 03:12:46     18623   \n",
       "3  2021-01-26 02:49:06  2021-01-26 03:21:51  2021-01-26 03:41:05     15945   \n",
       "4  2021-01-26 03:07:57  2021-01-26 03:31:38  2021-01-26 04:00:15     17589   \n",
       "\n",
       "   first_mile_distance  last_mile_distance  alloted_orders  delivered_orders  \\\n",
       "0               1.5666                2.65            46.0              46.0   \n",
       "1               2.5207                2.76             8.0               8.0   \n",
       "2               2.2074                4.80             1.0               1.0   \n",
       "3               2.1894                6.38             1.0               1.0   \n",
       "4               2.7870                4.01            34.0              34.0   \n",
       "\n",
       "   cancelled  undelivered_orders  lifetime_order_count reassignment_method  \\\n",
       "0          0                 0.0                 621.0                 NaN   \n",
       "1          0                 0.0                 105.0                 NaN   \n",
       "2          0                 0.0                  66.0                 NaN   \n",
       "3          0                 0.0                 127.0                 NaN   \n",
       "4          0                 0.0                  84.0                 NaN   \n",
       "\n",
       "  reassignment_reason  reassigned_order  session_time cancelled_time  \n",
       "0                 NaN               NaN           NaN            NaN  \n",
       "1                 NaN               NaN      3.266667            NaN  \n",
       "2                 NaN               NaN      9.816667            NaN  \n",
       "3                 NaN               NaN     17.533333            NaN  \n",
       "4                 NaN               NaN      1.350000            NaN  "
      ]
     },
     "execution_count": 12,
     "metadata": {},
     "output_type": "execute_result"
    }
   ],
   "source": [
    "train.head()"
   ]
  },
  {
   "cell_type": "code",
   "execution_count": 13,
   "id": "44ed8470-9d8b-4695-a3fc-a7d8bd2834ca",
   "metadata": {},
   "outputs": [
    {
     "name": "stdout",
     "output_type": "stream",
     "text": [
      "<class 'pandas.core.frame.DataFrame'>\n",
      "RangeIndex: 450000 entries, 0 to 449999\n",
      "Data columns (total 20 columns):\n",
      " #   Column                Non-Null Count   Dtype  \n",
      "---  ------                --------------   -----  \n",
      " 0   order_time            450000 non-null  object \n",
      " 1   order_id              450000 non-null  int64  \n",
      " 2   order_date            450000 non-null  object \n",
      " 3   allot_time            450000 non-null  object \n",
      " 4   accept_time           449843 non-null  object \n",
      " 5   pickup_time           447579 non-null  object \n",
      " 6   delivered_time        444782 non-null  object \n",
      " 7   rider_id              450000 non-null  int64  \n",
      " 8   first_mile_distance   450000 non-null  float64\n",
      " 9   last_mile_distance    450000 non-null  float64\n",
      " 10  alloted_orders        433052 non-null  float64\n",
      " 11  delivered_orders      432659 non-null  float64\n",
      " 12  cancelled             450000 non-null  int64  \n",
      " 13  undelivered_orders    432659 non-null  float64\n",
      " 14  lifetime_order_count  449947 non-null  float64\n",
      " 15  reassignment_method   13744 non-null   object \n",
      " 16  reassignment_reason   13753 non-null   object \n",
      " 17  reassigned_order      13753 non-null   float64\n",
      " 18  session_time          446325 non-null  float64\n",
      " 19  cancelled_time        5218 non-null    object \n",
      "dtypes: float64(8), int64(3), object(9)\n",
      "memory usage: 68.7+ MB\n"
     ]
    }
   ],
   "source": [
    "train.info()"
   ]
  },
  {
   "cell_type": "markdown",
   "id": "8b32acd6-561b-4866-aa50-541206c4431b",
   "metadata": {},
   "source": [
    "## Preprocessing"
   ]
  },
  {
   "cell_type": "code",
   "execution_count": 14,
   "id": "b863bf56-f96a-42e5-b751-2973fb1a066d",
   "metadata": {},
   "outputs": [
    {
     "data": {
      "text/plain": [
       "0         2021-01-26 02:21:35\n",
       "1         2021-01-26 02:33:16\n",
       "2         2021-01-26 02:39:49\n",
       "3         2021-01-26 02:47:53\n",
       "4         2021-01-26 03:06:30\n",
       "                 ...         \n",
       "449995    2021-02-06 10:03:16\n",
       "449996    2021-02-06 10:03:17\n",
       "449997    2021-02-06 10:03:18\n",
       "449998    2021-02-06 10:03:19\n",
       "449999    2021-02-06 10:03:24\n",
       "Name: order_time, Length: 450000, dtype: object"
      ]
     },
     "execution_count": 14,
     "metadata": {},
     "output_type": "execute_result"
    }
   ],
   "source": [
    "train.order_time.sort_values()"
   ]
  },
  {
   "cell_type": "code",
   "execution_count": 15,
   "id": "9cd90f4f-21a0-4427-b3e5-31fedf55f8b4",
   "metadata": {},
   "outputs": [
    {
     "data": {
      "text/plain": [
       "181402    2\n",
       "118842    1\n",
       "219966    1\n",
       "439171    1\n",
       "441218    1\n",
       "         ..\n",
       "437375    1\n",
       "435326    1\n",
       "441469    1\n",
       "439420    1\n",
       "118726    1\n",
       "Name: order_id, Length: 449999, dtype: int64"
      ]
     },
     "execution_count": 15,
     "metadata": {},
     "output_type": "execute_result"
    }
   ],
   "source": [
    "train.order_id.value_counts() #one duplicate row"
   ]
  },
  {
   "cell_type": "code",
   "execution_count": 16,
   "id": "d5d8557c-7792-407d-b4e8-604bd2fb7b99",
   "metadata": {},
   "outputs": [
    {
     "data": {
      "text/html": [
       "<div>\n",
       "<style scoped>\n",
       "    .dataframe tbody tr th:only-of-type {\n",
       "        vertical-align: middle;\n",
       "    }\n",
       "\n",
       "    .dataframe tbody tr th {\n",
       "        vertical-align: top;\n",
       "    }\n",
       "\n",
       "    .dataframe thead th {\n",
       "        text-align: right;\n",
       "    }\n",
       "</style>\n",
       "<table border=\"1\" class=\"dataframe\">\n",
       "  <thead>\n",
       "    <tr style=\"text-align: right;\">\n",
       "      <th></th>\n",
       "      <th>order_time</th>\n",
       "      <th>order_id</th>\n",
       "      <th>order_date</th>\n",
       "      <th>allot_time</th>\n",
       "      <th>accept_time</th>\n",
       "      <th>pickup_time</th>\n",
       "      <th>delivered_time</th>\n",
       "      <th>rider_id</th>\n",
       "      <th>first_mile_distance</th>\n",
       "      <th>last_mile_distance</th>\n",
       "      <th>alloted_orders</th>\n",
       "      <th>delivered_orders</th>\n",
       "      <th>cancelled</th>\n",
       "      <th>undelivered_orders</th>\n",
       "      <th>lifetime_order_count</th>\n",
       "      <th>reassignment_method</th>\n",
       "      <th>reassignment_reason</th>\n",
       "      <th>reassigned_order</th>\n",
       "      <th>session_time</th>\n",
       "      <th>cancelled_time</th>\n",
       "    </tr>\n",
       "  </thead>\n",
       "  <tbody>\n",
       "    <tr>\n",
       "      <th>420455</th>\n",
       "      <td>2021-02-05 15:06:30</td>\n",
       "      <td>181402</td>\n",
       "      <td>2021-02-05 00:00:00</td>\n",
       "      <td>2021-02-05 16:32:56</td>\n",
       "      <td>2021-02-05 16:33:16</td>\n",
       "      <td>NaN</td>\n",
       "      <td>NaN</td>\n",
       "      <td>14538</td>\n",
       "      <td>2.6168</td>\n",
       "      <td>1.24</td>\n",
       "      <td>72.0</td>\n",
       "      <td>72.0</td>\n",
       "      <td>1</td>\n",
       "      <td>0.0</td>\n",
       "      <td>244.0</td>\n",
       "      <td>auto</td>\n",
       "      <td>Reassign</td>\n",
       "      <td>1.0</td>\n",
       "      <td>96.5</td>\n",
       "      <td>2021-02-05 16:59:52</td>\n",
       "    </tr>\n",
       "    <tr>\n",
       "      <th>420456</th>\n",
       "      <td>2021-02-05 15:06:30</td>\n",
       "      <td>181402</td>\n",
       "      <td>2021-02-05 00:00:00</td>\n",
       "      <td>2021-02-05 16:32:56</td>\n",
       "      <td>2021-02-05 16:33:16</td>\n",
       "      <td>NaN</td>\n",
       "      <td>NaN</td>\n",
       "      <td>14538</td>\n",
       "      <td>2.6168</td>\n",
       "      <td>1.24</td>\n",
       "      <td>72.0</td>\n",
       "      <td>72.0</td>\n",
       "      <td>1</td>\n",
       "      <td>0.0</td>\n",
       "      <td>244.0</td>\n",
       "      <td>auto</td>\n",
       "      <td>Reassign</td>\n",
       "      <td>1.0</td>\n",
       "      <td>96.5</td>\n",
       "      <td>2021-02-05 16:59:52</td>\n",
       "    </tr>\n",
       "  </tbody>\n",
       "</table>\n",
       "</div>"
      ],
      "text/plain": [
       "                 order_time  order_id           order_date  \\\n",
       "420455  2021-02-05 15:06:30    181402  2021-02-05 00:00:00   \n",
       "420456  2021-02-05 15:06:30    181402  2021-02-05 00:00:00   \n",
       "\n",
       "                 allot_time          accept_time pickup_time delivered_time  \\\n",
       "420455  2021-02-05 16:32:56  2021-02-05 16:33:16         NaN            NaN   \n",
       "420456  2021-02-05 16:32:56  2021-02-05 16:33:16         NaN            NaN   \n",
       "\n",
       "        rider_id  first_mile_distance  last_mile_distance  alloted_orders  \\\n",
       "420455     14538               2.6168                1.24            72.0   \n",
       "420456     14538               2.6168                1.24            72.0   \n",
       "\n",
       "        delivered_orders  cancelled  undelivered_orders  lifetime_order_count  \\\n",
       "420455              72.0          1                 0.0                 244.0   \n",
       "420456              72.0          1                 0.0                 244.0   \n",
       "\n",
       "       reassignment_method reassignment_reason  reassigned_order  \\\n",
       "420455                auto            Reassign               1.0   \n",
       "420456                auto            Reassign               1.0   \n",
       "\n",
       "        session_time       cancelled_time  \n",
       "420455          96.5  2021-02-05 16:59:52  \n",
       "420456          96.5  2021-02-05 16:59:52  "
      ]
     },
     "execution_count": 16,
     "metadata": {},
     "output_type": "execute_result"
    }
   ],
   "source": [
    "train[train.order_id==181402] #discover the index of duplicate rows"
   ]
  },
  {
   "cell_type": "code",
   "execution_count": 17,
   "id": "ac770272-d401-45c8-932f-312931e6e1bd",
   "metadata": {},
   "outputs": [],
   "source": [
    "train1 = train.drop(420455) # drop duplicate"
   ]
  },
  {
   "cell_type": "code",
   "execution_count": 18,
   "id": "7813af8c-be38-405b-85e7-6ae28a135f36",
   "metadata": {},
   "outputs": [
    {
     "data": {
      "text/plain": [
       "2021-02-05 00:00:00    42340\n",
       "2021-02-03 00:00:00    41447\n",
       "2021-01-29 00:00:00    41207\n",
       "2021-02-02 00:00:00    40875\n",
       "2021-01-28 00:00:00    40783\n",
       "2021-02-04 00:00:00    39685\n",
       "2021-01-31 00:00:00    39254\n",
       "2021-01-27 00:00:00    39015\n",
       "2021-01-26 00:00:00    38090\n",
       "2021-02-01 00:00:00    37833\n",
       "2021-01-30 00:00:00    37589\n",
       "2021-02-06 00:00:00    11881\n",
       "Name: order_date, dtype: int64"
      ]
     },
     "execution_count": 18,
     "metadata": {},
     "output_type": "execute_result"
    }
   ],
   "source": [
    "train1.order_date.value_counts() "
   ]
  },
  {
   "cell_type": "code",
   "execution_count": 19,
   "id": "03323e64-be8a-4f84-bc24-5fb75623d6ce",
   "metadata": {},
   "outputs": [
    {
     "data": {
      "text/plain": [
       "0         2021-01-26 02:21:59\n",
       "1         2021-01-26 02:33:57\n",
       "2         2021-01-26 02:39:57\n",
       "3         2021-01-26 02:48:25\n",
       "4         2021-01-26 03:07:21\n",
       "                 ...         \n",
       "449716    2021-02-06 10:28:26\n",
       "449701    2021-02-06 10:35:56\n",
       "449738    2021-02-06 10:42:09\n",
       "449095    2021-02-06 10:43:52\n",
       "448144    2021-02-06 10:52:57\n",
       "Name: allot_time, Length: 449999, dtype: object"
      ]
     },
     "execution_count": 19,
     "metadata": {},
     "output_type": "execute_result"
    }
   ],
   "source": [
    "train1.allot_time.sort_values()"
   ]
  },
  {
   "cell_type": "code",
   "execution_count": 20,
   "id": "54ebd45b-efb4-4504-a355-02a73f10a604",
   "metadata": {},
   "outputs": [
    {
     "data": {
      "text/plain": [
       "157"
      ]
     },
     "execution_count": 20,
     "metadata": {},
     "output_type": "execute_result"
    }
   ],
   "source": [
    "train1.accept_time.isnull().sum() "
   ]
  },
  {
   "cell_type": "code",
   "execution_count": 21,
   "id": "8b5102de-b872-47e3-9f35-5f1f524033ec",
   "metadata": {},
   "outputs": [
    {
     "data": {
      "text/plain": [
       "157"
      ]
     },
     "execution_count": 21,
     "metadata": {},
     "output_type": "execute_result"
    }
   ],
   "source": [
    "train1[train1.accept_time.isnull()].cancelled.sum() #checking if ALL null values have cancelled orders"
   ]
  },
  {
   "cell_type": "code",
   "execution_count": 22,
   "id": "cffe51f6-7bd8-449b-a866-7de5acf11c75",
   "metadata": {},
   "outputs": [
    {
     "data": {
      "text/plain": [
       "2420"
      ]
     },
     "execution_count": 22,
     "metadata": {},
     "output_type": "execute_result"
    }
   ],
   "source": [
    "train1.pickup_time.isnull().sum()"
   ]
  },
  {
   "cell_type": "code",
   "execution_count": 23,
   "id": "54b93cd8-b601-4ae4-97a0-fa81e239c7be",
   "metadata": {},
   "outputs": [
    {
     "data": {
      "text/plain": [
       "2420"
      ]
     },
     "execution_count": 23,
     "metadata": {},
     "output_type": "execute_result"
    }
   ],
   "source": [
    "train1[train1.pickup_time.isnull()].cancelled.sum() #checking if ALL null values have cancelled orders"
   ]
  },
  {
   "cell_type": "code",
   "execution_count": 24,
   "id": "1974c449-fe09-4dae-98e5-640eda4f372c",
   "metadata": {},
   "outputs": [
    {
     "data": {
      "text/plain": [
       "5217"
      ]
     },
     "execution_count": 24,
     "metadata": {},
     "output_type": "execute_result"
    }
   ],
   "source": [
    "train1.delivered_time.isnull().sum()"
   ]
  },
  {
   "cell_type": "code",
   "execution_count": 25,
   "id": "7378167e-3718-4b43-a270-d93514ce21ca",
   "metadata": {},
   "outputs": [
    {
     "data": {
      "text/plain": [
       "5217"
      ]
     },
     "execution_count": 25,
     "metadata": {},
     "output_type": "execute_result"
    }
   ],
   "source": [
    "train1[train1.delivered_time.isnull()].cancelled.sum() #checking if ALL null values have cancelled orders"
   ]
  },
  {
   "cell_type": "code",
   "execution_count": 26,
   "id": "e72f9db4-381a-4063-a274-00a0e3a0a398",
   "metadata": {},
   "outputs": [
    {
     "data": {
      "text/plain": [
       "array([    0,     1,     2, ..., 21564, 21565, 21566], dtype=int64)"
      ]
     },
     "execution_count": 26,
     "metadata": {},
     "output_type": "execute_result"
    }
   ],
   "source": [
    "np.sort(train1.rider_id.unique()) #unique rider_id's in train data"
   ]
  },
  {
   "cell_type": "code",
   "execution_count": 27,
   "id": "6a228fb6-0b17-4c24-a5de-231e541f6065",
   "metadata": {},
   "outputs": [
    {
     "data": {
      "text/plain": [
       "array([    0,     1,     2, ..., 13982, 13983, 13984], dtype=int64)"
      ]
     },
     "execution_count": 27,
     "metadata": {},
     "output_type": "execute_result"
    }
   ],
   "source": [
    "test = pd.read_csv('test.csv')\n",
    "np.sort(test.rider_id.unique()) #unique rider_id's in test data"
   ]
  },
  {
   "cell_type": "code",
   "execution_count": 28,
   "id": "6ccd5317-17fd-4771-ae54-119060873668",
   "metadata": {},
   "outputs": [],
   "source": [
    "#comparing unique rider_id's in train and test data\n",
    "riders = train1.rider_id.unique().tolist()\n",
    "unmatched = False\n",
    "list1 = []\n",
    "for i in test.rider_id.unique().tolist():\n",
    "    if i not in riders:\n",
    "        list1.append(i)"
   ]
  },
  {
   "cell_type": "code",
   "execution_count": 29,
   "id": "e8bc2e72-2078-4149-bb3f-167b9605e3a4",
   "metadata": {},
   "outputs": [
    {
     "data": {
      "text/plain": [
       "2030"
      ]
     },
     "execution_count": 29,
     "metadata": {},
     "output_type": "execute_result"
    }
   ],
   "source": [
    "len(list1) #2030 rider_id';s in test data which are not in train data"
   ]
  },
  {
   "cell_type": "code",
   "execution_count": 30,
   "id": "7cc21471-fa5b-4713-910c-8a006e70272b",
   "metadata": {},
   "outputs": [
    {
     "data": {
      "text/plain": [
       "count    449999.000000\n",
       "mean          1.229886\n",
       "std           0.846181\n",
       "min           0.000134\n",
       "25%           0.539550\n",
       "50%           1.138700\n",
       "75%           1.853000\n",
       "max          42.038100\n",
       "Name: first_mile_distance, dtype: float64"
      ]
     },
     "execution_count": 30,
     "metadata": {},
     "output_type": "execute_result"
    }
   ],
   "source": [
    "train1.first_mile_distance.describe()"
   ]
  },
  {
   "cell_type": "code",
   "execution_count": 31,
   "id": "78baa313-3f15-4914-afd2-a4ddb9a1dd2e",
   "metadata": {},
   "outputs": [
    {
     "data": {
      "text/plain": [
       "count    449999.000000\n",
       "mean          2.968877\n",
       "std           1.884124\n",
       "min           0.000000\n",
       "25%           1.470000\n",
       "50%           2.670000\n",
       "75%           4.220000\n",
       "max          22.410000\n",
       "Name: last_mile_distance, dtype: float64"
      ]
     },
     "execution_count": 31,
     "metadata": {},
     "output_type": "execute_result"
    }
   ],
   "source": [
    "train1.last_mile_distance.describe()"
   ]
  },
  {
   "cell_type": "code",
   "execution_count": 32,
   "id": "be05534c-8309-45dc-b53b-24c9202e3195",
   "metadata": {},
   "outputs": [
    {
     "data": {
      "text/plain": [
       "16948"
      ]
     },
     "execution_count": 32,
     "metadata": {},
     "output_type": "execute_result"
    }
   ],
   "source": [
    "train1.alloted_orders.isnull().sum()"
   ]
  },
  {
   "cell_type": "code",
   "execution_count": 33,
   "id": "d2e07260-eea3-49ac-b69d-bf6b3dc5bbe4",
   "metadata": {},
   "outputs": [],
   "source": [
    "train2 = train1.copy()\n",
    "train2.alloted_orders.fillna(0, inplace=True)\n",
    "train2.delivered_orders.fillna(0, inplace=True) #when alloted and delivered orders are missing, there is no previosuly available data for that rider, so we replace it with 0."
   ]
  },
  {
   "cell_type": "code",
   "execution_count": 34,
   "id": "94dd4d63-af30-4acb-a030-52f0c8c77f7f",
   "metadata": {},
   "outputs": [
    {
     "name": "stdout",
     "output_type": "stream",
     "text": [
      "<class 'pandas.core.frame.DataFrame'>\n",
      "Int64Index: 449999 entries, 0 to 449999\n",
      "Data columns (total 20 columns):\n",
      " #   Column                Non-Null Count   Dtype  \n",
      "---  ------                --------------   -----  \n",
      " 0   order_time            449999 non-null  object \n",
      " 1   order_id              449999 non-null  int64  \n",
      " 2   order_date            449999 non-null  object \n",
      " 3   allot_time            449999 non-null  object \n",
      " 4   accept_time           449842 non-null  object \n",
      " 5   pickup_time           447579 non-null  object \n",
      " 6   delivered_time        444782 non-null  object \n",
      " 7   rider_id              449999 non-null  int64  \n",
      " 8   first_mile_distance   449999 non-null  float64\n",
      " 9   last_mile_distance    449999 non-null  float64\n",
      " 10  alloted_orders        449999 non-null  float64\n",
      " 11  delivered_orders      449999 non-null  float64\n",
      " 12  cancelled             449999 non-null  int64  \n",
      " 13  undelivered_orders    432658 non-null  float64\n",
      " 14  lifetime_order_count  449946 non-null  float64\n",
      " 15  reassignment_method   13743 non-null   object \n",
      " 16  reassignment_reason   13752 non-null   object \n",
      " 17  reassigned_order      13752 non-null   float64\n",
      " 18  session_time          446324 non-null  float64\n",
      " 19  cancelled_time        5217 non-null    object \n",
      "dtypes: float64(8), int64(3), object(9)\n",
      "memory usage: 72.1+ MB\n"
     ]
    }
   ],
   "source": [
    "train2.info()"
   ]
  },
  {
   "cell_type": "code",
   "execution_count": 35,
   "id": "4bd1dac0-30aa-4cae-9c05-54d76a521614",
   "metadata": {},
   "outputs": [
    {
     "data": {
      "text/plain": [
       "0    444782\n",
       "1      5217\n",
       "Name: cancelled, dtype: int64"
      ]
     },
     "execution_count": 35,
     "metadata": {},
     "output_type": "execute_result"
    }
   ],
   "source": [
    "train2.cancelled.value_counts() # imbalanced dataset"
   ]
  },
  {
   "cell_type": "code",
   "execution_count": 36,
   "id": "7791158a-d751-4060-a17d-7de8341bba2e",
   "metadata": {},
   "outputs": [
    {
     "data": {
      "text/plain": [
       "0.0    232685\n",
       "1.0    118103\n",
       "2.0     50582\n",
       "3.0     20011\n",
       "4.0      7733\n",
       "5.0      1851\n",
       "6.0       932\n",
       "7.0       600\n",
       "8.0       105\n",
       "9.0        56\n",
       "Name: undelivered_orders, dtype: int64"
      ]
     },
     "execution_count": 36,
     "metadata": {},
     "output_type": "execute_result"
    }
   ],
   "source": [
    "train2.undelivered_orders.value_counts() "
   ]
  },
  {
   "cell_type": "code",
   "execution_count": 37,
   "id": "93eeb6fd-fefc-4299-acc8-aab6a24f0de8",
   "metadata": {},
   "outputs": [
    {
     "data": {
      "text/plain": [
       "17341"
      ]
     },
     "execution_count": 37,
     "metadata": {},
     "output_type": "execute_result"
    }
   ],
   "source": [
    "train2.undelivered_orders.isnull().sum()"
   ]
  },
  {
   "cell_type": "code",
   "execution_count": 38,
   "id": "7ad68c4e-a4f1-4143-a2f9-574f1d52d903",
   "metadata": {},
   "outputs": [],
   "source": [
    "train2 = train2.assign(undelivered_orders = lambda x: (train2['alloted_orders'] - train2['delivered_orders']))\n",
    "#replacing missing values in undelivered orders with alloted_orders - delivered_orders"
   ]
  },
  {
   "cell_type": "code",
   "execution_count": 39,
   "id": "7bf0bf76-dc3a-4e53-a53e-c5e93dcb2315",
   "metadata": {},
   "outputs": [
    {
     "data": {
      "text/plain": [
       "53"
      ]
     },
     "execution_count": 39,
     "metadata": {},
     "output_type": "execute_result"
    }
   ],
   "source": [
    "train2.lifetime_order_count.isnull().sum()"
   ]
  },
  {
   "cell_type": "code",
   "execution_count": 40,
   "id": "755e7122-2174-4b26-82a1-018b7b963f97",
   "metadata": {},
   "outputs": [],
   "source": [
    "train3 = train2.copy()\n",
    "train3.lifetime_order_count.fillna(0,inplace=True) #fill missing values for lifetime_order_count with 0."
   ]
  },
  {
   "cell_type": "code",
   "execution_count": 41,
   "id": "fdeb13a1-9e5d-4fea-ad62-cf4ccf15f827",
   "metadata": {},
   "outputs": [
    {
     "name": "stdout",
     "output_type": "stream",
     "text": [
      "<class 'pandas.core.frame.DataFrame'>\n",
      "Int64Index: 449999 entries, 0 to 449999\n",
      "Data columns (total 20 columns):\n",
      " #   Column                Non-Null Count   Dtype  \n",
      "---  ------                --------------   -----  \n",
      " 0   order_time            449999 non-null  object \n",
      " 1   order_id              449999 non-null  int64  \n",
      " 2   order_date            449999 non-null  object \n",
      " 3   allot_time            449999 non-null  object \n",
      " 4   accept_time           449842 non-null  object \n",
      " 5   pickup_time           447579 non-null  object \n",
      " 6   delivered_time        444782 non-null  object \n",
      " 7   rider_id              449999 non-null  int64  \n",
      " 8   first_mile_distance   449999 non-null  float64\n",
      " 9   last_mile_distance    449999 non-null  float64\n",
      " 10  alloted_orders        449999 non-null  float64\n",
      " 11  delivered_orders      449999 non-null  float64\n",
      " 12  cancelled             449999 non-null  int64  \n",
      " 13  undelivered_orders    449999 non-null  float64\n",
      " 14  lifetime_order_count  449999 non-null  float64\n",
      " 15  reassignment_method   13743 non-null   object \n",
      " 16  reassignment_reason   13752 non-null   object \n",
      " 17  reassigned_order      13752 non-null   float64\n",
      " 18  session_time          446324 non-null  float64\n",
      " 19  cancelled_time        5217 non-null    object \n",
      "dtypes: float64(8), int64(3), object(9)\n",
      "memory usage: 72.1+ MB\n"
     ]
    }
   ],
   "source": [
    "train3.info()"
   ]
  },
  {
   "cell_type": "code",
   "execution_count": 42,
   "id": "f086adbb-fb25-4641-bb95-a85e2706da7f",
   "metadata": {},
   "outputs": [],
   "source": [
    "train3.reassigned_order.fillna(0,inplace=True) #0 if order was not reassigned\n",
    "train3.reassignment_method.fillna(train3.reassignment_method.mode()[0],inplace=True) #replacing nulls with most frequent value\n",
    "train3.reassignment_reason.fillna(train3.reassignment_reason.mode()[0],inplace=True)  #replacing nulls with most frequent value"
   ]
  },
  {
   "cell_type": "code",
   "execution_count": 43,
   "id": "466b20dd-fcc0-4aff-a2e8-09ee98117a16",
   "metadata": {},
   "outputs": [
    {
     "name": "stdout",
     "output_type": "stream",
     "text": [
      "<class 'pandas.core.frame.DataFrame'>\n",
      "Int64Index: 449999 entries, 0 to 449999\n",
      "Data columns (total 20 columns):\n",
      " #   Column                Non-Null Count   Dtype  \n",
      "---  ------                --------------   -----  \n",
      " 0   order_time            449999 non-null  object \n",
      " 1   order_id              449999 non-null  int64  \n",
      " 2   order_date            449999 non-null  object \n",
      " 3   allot_time            449999 non-null  object \n",
      " 4   accept_time           449842 non-null  object \n",
      " 5   pickup_time           447579 non-null  object \n",
      " 6   delivered_time        444782 non-null  object \n",
      " 7   rider_id              449999 non-null  int64  \n",
      " 8   first_mile_distance   449999 non-null  float64\n",
      " 9   last_mile_distance    449999 non-null  float64\n",
      " 10  alloted_orders        449999 non-null  float64\n",
      " 11  delivered_orders      449999 non-null  float64\n",
      " 12  cancelled             449999 non-null  int64  \n",
      " 13  undelivered_orders    449999 non-null  float64\n",
      " 14  lifetime_order_count  449999 non-null  float64\n",
      " 15  reassignment_method   449999 non-null  object \n",
      " 16  reassignment_reason   449999 non-null  object \n",
      " 17  reassigned_order      449999 non-null  float64\n",
      " 18  session_time          446324 non-null  float64\n",
      " 19  cancelled_time        5217 non-null    object \n",
      "dtypes: float64(8), int64(3), object(9)\n",
      "memory usage: 72.1+ MB\n"
     ]
    }
   ],
   "source": [
    "train3.info()"
   ]
  },
  {
   "cell_type": "code",
   "execution_count": 44,
   "id": "468df37f-7b37-4a2d-bf8e-5e415cb68382",
   "metadata": {},
   "outputs": [],
   "source": [
    "train3.session_time.fillna(0,inplace=True) #repalcing nulls with 0"
   ]
  },
  {
   "cell_type": "code",
   "execution_count": 45,
   "id": "9df754b2-4ff7-4767-bdcc-f320a4c73438",
   "metadata": {},
   "outputs": [],
   "source": [
    "train4 = train3.copy()\n",
    "train4.drop('cancelled_time',axis=1, inplace=True) #cancelled_time is not relevant for predicting if an order will be cancelled or not"
   ]
  },
  {
   "cell_type": "code",
   "execution_count": 46,
   "id": "f7b508b7-0391-4d99-a6a9-76f83982a106",
   "metadata": {},
   "outputs": [
    {
     "name": "stdout",
     "output_type": "stream",
     "text": [
      "<class 'pandas.core.frame.DataFrame'>\n",
      "Int64Index: 449999 entries, 0 to 449999\n",
      "Data columns (total 19 columns):\n",
      " #   Column                Non-Null Count   Dtype  \n",
      "---  ------                --------------   -----  \n",
      " 0   order_time            449999 non-null  object \n",
      " 1   order_id              449999 non-null  int64  \n",
      " 2   order_date            449999 non-null  object \n",
      " 3   allot_time            449999 non-null  object \n",
      " 4   accept_time           449842 non-null  object \n",
      " 5   pickup_time           447579 non-null  object \n",
      " 6   delivered_time        444782 non-null  object \n",
      " 7   rider_id              449999 non-null  int64  \n",
      " 8   first_mile_distance   449999 non-null  float64\n",
      " 9   last_mile_distance    449999 non-null  float64\n",
      " 10  alloted_orders        449999 non-null  float64\n",
      " 11  delivered_orders      449999 non-null  float64\n",
      " 12  cancelled             449999 non-null  int64  \n",
      " 13  undelivered_orders    449999 non-null  float64\n",
      " 14  lifetime_order_count  449999 non-null  float64\n",
      " 15  reassignment_method   449999 non-null  object \n",
      " 16  reassignment_reason   449999 non-null  object \n",
      " 17  reassigned_order      449999 non-null  float64\n",
      " 18  session_time          449999 non-null  float64\n",
      "dtypes: float64(8), int64(3), object(8)\n",
      "memory usage: 68.7+ MB\n"
     ]
    }
   ],
   "source": [
    "train4.info()"
   ]
  },
  {
   "cell_type": "code",
   "execution_count": 38,
   "id": "b59e2ac2-9cbc-48e6-8020-db9923dc4ef2",
   "metadata": {},
   "outputs": [],
   "source": [
    "#dropping irrelevant columns\n",
    "train4.drop('order_id',axis=1,inplace=True)\n",
    "train4.drop('rider_id',axis=1,inplace=True)\n",
    "train4.drop('order_date',axis=1,inplace=True)"
   ]
  },
  {
   "cell_type": "code",
   "execution_count": 39,
   "id": "ff27aed7-ecc2-4c26-a549-73f25a2a024c",
   "metadata": {},
   "outputs": [
    {
     "name": "stdout",
     "output_type": "stream",
     "text": [
      "<class 'pandas.core.frame.DataFrame'>\n",
      "Int64Index: 449999 entries, 0 to 449999\n",
      "Data columns (total 16 columns):\n",
      " #   Column                Non-Null Count   Dtype  \n",
      "---  ------                --------------   -----  \n",
      " 0   order_time            449999 non-null  object \n",
      " 1   allot_time            449999 non-null  object \n",
      " 2   accept_time           449842 non-null  object \n",
      " 3   pickup_time           447579 non-null  object \n",
      " 4   delivered_time        444782 non-null  object \n",
      " 5   first_mile_distance   449999 non-null  float64\n",
      " 6   last_mile_distance    449999 non-null  float64\n",
      " 7   alloted_orders        449999 non-null  float64\n",
      " 8   delivered_orders      449999 non-null  float64\n",
      " 9   cancelled             449999 non-null  int64  \n",
      " 10  undelivered_orders    449999 non-null  float64\n",
      " 11  lifetime_order_count  449999 non-null  float64\n",
      " 12  reassignment_method   449999 non-null  object \n",
      " 13  reassignment_reason   449999 non-null  object \n",
      " 14  reassigned_order      449999 non-null  float64\n",
      " 15  session_time          449999 non-null  float64\n",
      "dtypes: float64(8), int64(1), object(7)\n",
      "memory usage: 58.4+ MB\n"
     ]
    }
   ],
   "source": [
    "train4.info()"
   ]
  },
  {
   "cell_type": "code",
   "execution_count": 40,
   "id": "47903a43-f280-4b91-b0ba-708aabe2bcc1",
   "metadata": {},
   "outputs": [],
   "source": [
    "# Converting the time columns pd.datetime64 datatype\n",
    "train4['allot_time'] = train4['allot_time'].astype('datetime64[ns]')\n",
    "train4['order_time']= train4['order_time'].astype('datetime64[ns]')\n",
    "train4['accept_time'] = train4['accept_time'].astype('datetime64[ns]')"
   ]
  },
  {
   "cell_type": "code",
   "execution_count": 41,
   "id": "413b5b3e-4ff7-4648-a5e2-e9fa329c695f",
   "metadata": {},
   "outputs": [
    {
     "name": "stderr",
     "output_type": "stream",
     "text": [
      "100%|████████████████████████████████████████████████████████████████████████| 449999/449999 [04:01<00:00, 1864.22it/s]\n"
     ]
    }
   ],
   "source": [
    "#calculating time delta between allot_time and order_time - this will be our new column allot_delay.\n",
    "from tqdm import tqdm\n",
    "t = []\n",
    "for i in tqdm(range(train4.shape[0])):\n",
    "    t.append(((train4.iloc[i].allot_time - train4.iloc[i].order_time).seconds))"
   ]
  },
  {
   "cell_type": "code",
   "execution_count": 42,
   "id": "13dd0c2d-f39a-4180-aa51-8732f7dcca82",
   "metadata": {},
   "outputs": [],
   "source": [
    "train4['allot_delay'] = t"
   ]
  },
  {
   "cell_type": "code",
   "execution_count": 43,
   "id": "6f6aac9f-1762-40ea-97f9-03d0ce7b215c",
   "metadata": {},
   "outputs": [
    {
     "name": "stderr",
     "output_type": "stream",
     "text": [
      "100%|████████████████████████████████████████████████████████████████████████| 449999/449999 [03:55<00:00, 1912.41it/s]\n"
     ]
    }
   ],
   "source": [
    "#calculating time delta between accept_time and allot_time - this will be our new column accept_delay.\n",
    "t = []\n",
    "for i in tqdm(range(train4.shape[0])):\n",
    "    t.append(((train4.iloc[i].accept_time - train4.iloc[i].allot_time).seconds))"
   ]
  },
  {
   "cell_type": "code",
   "execution_count": 44,
   "id": "5e4cd1c3-eae9-49b8-9367-2920a12892f7",
   "metadata": {},
   "outputs": [],
   "source": [
    "train4['accept_delay'] = t"
   ]
  },
  {
   "cell_type": "code",
   "execution_count": 45,
   "id": "07e93306-11cc-4d2d-847f-2d87c0ade067",
   "metadata": {},
   "outputs": [],
   "source": [
    "#there are null values in accept_delay due to null values in accept_time. For now, we are replacing them with zero.\n",
    "train4.accept_delay.fillna(0,inplace=True)"
   ]
  },
  {
   "cell_type": "code",
   "execution_count": 46,
   "id": "9159dcae-4e84-4b8f-b971-b59928cd964f",
   "metadata": {},
   "outputs": [],
   "source": [
    "train5 = train4.copy()\n",
    "train5.drop(['pickup_time','delivered_time','allot_time','order_time','accept_time'],axis=1,inplace=True)\n",
    "#dropping all time-related columns - some have been used to calculate time delta so they are no longer needed, others are missing in test data."
   ]
  },
  {
   "cell_type": "code",
   "execution_count": 47,
   "id": "c6187c91-41dc-44f4-b449-382bff1f670b",
   "metadata": {},
   "outputs": [],
   "source": [
    "train5['delivered_ratio'] = train5.delivered_orders/train5.alloted_orders\n",
    "#a ratio of delivered to alloted orders is being used instead of the two columns"
   ]
  },
  {
   "cell_type": "code",
   "execution_count": 48,
   "id": "75fbdcf7-9d49-4653-bbca-431be0a07ff6",
   "metadata": {},
   "outputs": [],
   "source": [
    "train5.delivered_ratio.fillna(0,inplace=True)\n",
    "#there are missing values in the ratio when alloted orders = 0. in such cases, the ratio can be said to be 0."
   ]
  },
  {
   "cell_type": "code",
   "execution_count": 49,
   "id": "29924290-deaf-474e-972b-c131251032c6",
   "metadata": {},
   "outputs": [],
   "source": [
    "train5.drop(['alloted_orders','delivered_orders'],axis=1,inplace=True)\n",
    "#dropping the columns which were used for the delivered_ratio"
   ]
  },
  {
   "cell_type": "code",
   "execution_count": 50,
   "id": "5d0ac8ce-9e33-4a2f-846c-511939a855d8",
   "metadata": {},
   "outputs": [],
   "source": [
    "train6 = pd.get_dummies(train5,columns=['reassignment_method','reassignment_reason'])\n",
    "#one-hot-encoding the two categorical columns"
   ]
  },
  {
   "cell_type": "code",
   "execution_count": 51,
   "id": "3b08b1e5-e5d2-45c9-95fb-e23e96ad1a70",
   "metadata": {},
   "outputs": [],
   "source": [
    "train6=train6.rename(columns=\n",
    "                     {'reassignment_reason_Auto Reassignment basis Inaction. coreengine.tasks.repush_order_to_aa_bucket':'reassignment_reason_auto'})\n",
    "#just renaming an unecessarily long column name"
   ]
  },
  {
   "cell_type": "code",
   "execution_count": 52,
   "id": "7df32b19-5e1f-4fe5-abf2-b4a6c801db19",
   "metadata": {},
   "outputs": [
    {
     "name": "stdout",
     "output_type": "stream",
     "text": [
      "<class 'pandas.core.frame.DataFrame'>\n",
      "Int64Index: 449999 entries, 0 to 449999\n",
      "Data columns (total 15 columns):\n",
      " #   Column                                                    Non-Null Count   Dtype  \n",
      "---  ------                                                    --------------   -----  \n",
      " 0   first_mile_distance                                       449999 non-null  float64\n",
      " 1   last_mile_distance                                        449999 non-null  float64\n",
      " 2   cancelled                                                 449999 non-null  int64  \n",
      " 3   undelivered_orders                                        449999 non-null  float64\n",
      " 4   lifetime_order_count                                      449999 non-null  float64\n",
      " 5   reassigned_order                                          449999 non-null  float64\n",
      " 6   session_time                                              449999 non-null  float64\n",
      " 7   allot_delay                                               449999 non-null  int64  \n",
      " 8   accept_delay                                              449999 non-null  float64\n",
      " 9   delivered_ratio                                           449999 non-null  float64\n",
      " 10  reassignment_method_auto                                  449999 non-null  uint8  \n",
      " 11  reassignment_method_manual                                449999 non-null  uint8  \n",
      " 12  reassignment_reason_auto                                  449999 non-null  uint8  \n",
      " 13  reassignment_reason_Reassign                              449999 non-null  uint8  \n",
      " 14  reassignment_reason_Reassignment Request from SE portal.  449999 non-null  uint8  \n",
      "dtypes: float64(8), int64(2), uint8(5)\n",
      "memory usage: 39.9 MB\n"
     ]
    }
   ],
   "source": [
    "train6.info()"
   ]
  },
  {
   "cell_type": "code",
   "execution_count": 168,
   "id": "3a006076-6f4e-4eb8-958e-65494de65595",
   "metadata": {},
   "outputs": [],
   "source": [
    "test = pd.read_csv('test.csv')\n",
    "test.drop(['order_id','order_date','rider_id'],axis=1,inplace=True)"
   ]
  },
  {
   "cell_type": "code",
   "execution_count": 169,
   "id": "aebea8d1-af6a-4d05-9976-634b07b5497d",
   "metadata": {},
   "outputs": [],
   "source": [
    "test.order_time = test.order_time.astype('datetime64[ns]')\n",
    "test.allot_time = test.allot_time.astype('datetime64[ns]')\n",
    "test.accept_time = test.accept_time.astype('datetime64[ns]')"
   ]
  },
  {
   "cell_type": "code",
   "execution_count": 170,
   "id": "b04bc908-c7c2-4c9c-9b5a-9e1cdac517fc",
   "metadata": {},
   "outputs": [
    {
     "name": "stderr",
     "output_type": "stream",
     "text": [
      "100%|████████████████████████████████████████████████████████████████████████| 144844/144844 [01:06<00:00, 2187.41it/s]\n"
     ]
    }
   ],
   "source": [
    "from tqdm import tqdm\n",
    "t = []\n",
    "for i in tqdm(range(test.shape[0])):\n",
    "    t.append(((test.iloc[i].allot_time - test.iloc[i].order_time).seconds))"
   ]
  },
  {
   "cell_type": "code",
   "execution_count": 171,
   "id": "6d72ce27-f722-45b9-a012-b523460c6630",
   "metadata": {},
   "outputs": [
    {
     "name": "stderr",
     "output_type": "stream",
     "text": [
      "100%|████████████████████████████████████████████████████████████████████████| 144844/144844 [01:06<00:00, 2177.70it/s]\n"
     ]
    }
   ],
   "source": [
    "u = []\n",
    "for i in tqdm(range(test.shape[0])):\n",
    "    u.append(((test.iloc[i].accept_time - test.iloc[i].allot_time).seconds))"
   ]
  },
  {
   "cell_type": "code",
   "execution_count": 172,
   "id": "a6833ae2-9e8c-4dae-808b-6b0fd0c126b9",
   "metadata": {},
   "outputs": [],
   "source": [
    "test['allot_delay'] = t"
   ]
  },
  {
   "cell_type": "code",
   "execution_count": 173,
   "id": "8d24d7d5-ca06-42e5-a850-43ae1352d49f",
   "metadata": {},
   "outputs": [],
   "source": [
    "test['accept_delay'] = u"
   ]
  },
  {
   "cell_type": "code",
   "execution_count": 174,
   "id": "c7077f64-618f-424d-85ad-8b2b75a7c840",
   "metadata": {},
   "outputs": [],
   "source": [
    "test['delivered_ratio'] = test.delivered_orders/test.alloted_orders\n",
    "test.delivered_ratio.fillna(0,inplace=True)"
   ]
  },
  {
   "cell_type": "code",
   "execution_count": 175,
   "id": "48fa2ed9-b745-4341-80bb-2f8ce7bb7f44",
   "metadata": {},
   "outputs": [],
   "source": [
    "test.delivered_orders.fillna(0,inplace=True)\n",
    "test.undelivered_orders.fillna(test.alloted_orders-test.delivered_orders,inplace=True)"
   ]
  },
  {
   "cell_type": "code",
   "execution_count": 176,
   "id": "088288d4-f1c0-4765-a261-fd941e067271",
   "metadata": {},
   "outputs": [],
   "source": [
    "test.undelivered_orders.fillna(0,inplace=True)"
   ]
  },
  {
   "cell_type": "code",
   "execution_count": 177,
   "id": "2c4e26fa-8806-4faf-bf6f-f8ede4b01d2f",
   "metadata": {},
   "outputs": [],
   "source": [
    "test.reassigned_order.fillna(0,inplace=True) #0 if order was not reassigned\n",
    "test.reassignment_method.fillna(train3.reassignment_method.mode()[0],inplace=True) #replacing nulls with most frequent value\n",
    "test.reassignment_reason.fillna(train3.reassignment_reason.mode()[0],inplace=True)  #replacing nulls with most frequent value"
   ]
  },
  {
   "cell_type": "code",
   "execution_count": 180,
   "id": "4b742c83-1e9d-473f-a7c4-52698ac1652c",
   "metadata": {},
   "outputs": [],
   "source": [
    "test.drop(['order_time','allot_time','accept_time','delivered_orders','alloted_orders'],axis=1,inplace=True)"
   ]
  },
  {
   "cell_type": "code",
   "execution_count": 181,
   "id": "7250453f-858b-4345-9a99-e2571208e556",
   "metadata": {},
   "outputs": [],
   "source": [
    "test = pd.get_dummies(test,columns=['reassignment_method','reassignment_reason'])"
   ]
  },
  {
   "cell_type": "code",
   "execution_count": 182,
   "id": "6b65a011-7836-42db-a8fb-f6d083e3a8cb",
   "metadata": {},
   "outputs": [],
   "source": [
    "test.rename(columns={'reassignment_reason_Auto Reassignment basis Inaction. coreengine.tasks.repush_order_to_aa_bucket':'reassignment_reason_auto'},inplace=True)"
   ]
  },
  {
   "cell_type": "code",
   "execution_count": 187,
   "id": "92c0c9f6-db4a-4583-ad36-374318e5c569",
   "metadata": {},
   "outputs": [],
   "source": [
    "test.lifetime_order_count.fillna(0,inplace=True)\n",
    "test.session_time.fillna(0,inplace=True)\n",
    "test.accept_delay.fillna(0,inplace=True)"
   ]
  },
  {
   "cell_type": "code",
   "execution_count": 189,
   "id": "736b7a75-aeed-48ed-bc41-468fd8524d8c",
   "metadata": {},
   "outputs": [],
   "source": [
    "test.to_csv('Preprocessed_test.csv',index=False)"
   ]
  },
  {
   "cell_type": "code",
   "execution_count": 2,
   "id": "1bc2ae07-ba1b-4da7-9b20-0b7578d12953",
   "metadata": {},
   "outputs": [],
   "source": [
    "train6 = pd.read_csv(\"Preprocessed_train.csv\",index_col=0) #This file contains the preprocessed data\n",
    "test = pd.read_csv(\"Preprocessed_test.csv\")"
   ]
  },
  {
   "cell_type": "markdown",
   "id": "44722d3d-4991-4f69-9bba-ce43356a4159",
   "metadata": {},
   "source": [
    "## Train-Test split"
   ]
  },
  {
   "cell_type": "code",
   "execution_count": 4,
   "id": "3ed36d50-40fa-4380-868c-a170ae6c2865",
   "metadata": {},
   "outputs": [],
   "source": [
    "from sklearn.model_selection import train_test_split\n",
    "X = train6.drop('cancelled',axis=1)\n",
    "y = train6[['cancelled']]\n",
    "X_train,X_test, y_train, y_test = train_test_split(X,y,test_size=0.2, stratify=y)"
   ]
  },
  {
   "cell_type": "markdown",
   "id": "9dee37d0-5ffd-47a1-805f-fc7441bc0034",
   "metadata": {},
   "source": [
    "## Evaluating various basic models\n",
    "\n",
    "The following two cells together take several hours to run, so they have been commented out and the results have been listed in a markdown cell subsequently."
   ]
  },
  {
   "cell_type": "code",
   "execution_count": 54,
   "id": "d0151b21-5147-46bf-a3aa-c4f0183449b6",
   "metadata": {},
   "outputs": [],
   "source": [
    "# import warnings\n",
    "# warnings.filterwarnings('ignore')\n",
    "# from sklearn.linear_model import LogisticRegression\n",
    "# from sklearn.neighbors import KNeighborsClassifier\n",
    "# from sklearn.discriminant_analysis import LinearDiscriminantAnalysis\n",
    "# from sklearn.ensemble import RandomForestClassifier,VotingClassifier,AdaBoostClassifier,GradientBoostingClassifier,RandomForestClassifier,ExtraTreesClassifier\n",
    "# from sklearn.neural_network import MLPClassifier\n",
    "# from sklearn.tree import DecisionTreeClassifier\n",
    "# from sklearn.linear_model import SGDClassifier\n",
    "# from sklearn.svm import SVC \n",
    "# from sklearn.naive_bayes import GaussianNB\n",
    "# import xgboost as xgb\n",
    "# from sklearn import model_selection\n",
    "# from sklearn.model_selection import cross_val_score\n",
    "# from sklearn.metrics import log_loss,roc_auc_score,precision_score,f1_score,recall_score,roc_curve,auc\n",
    "# from sklearn.metrics import classification_report, confusion_matrix,accuracy_score,fbeta_score,matthews_corrcoef\n",
    "# from sklearn import metrics\n",
    "# from sklearn.model_selection import StratifiedKFold\n",
    "# # function initializing baseline machine learning models\n",
    "# def GetBasedModel():\n",
    "#     basedModels = []\n",
    "#     basedModels.append(('LR_L2'   , LogisticRegression(penalty='l2')))\n",
    "#     basedModels.append(('LDA'  , LinearDiscriminantAnalysis()))\n",
    "#     basedModels.append(('KNN7'  , KNeighborsClassifier(7)))\n",
    "#     basedModels.append(('KNN5'  , KNeighborsClassifier(5)))\n",
    "#     basedModels.append(('KNN9'  , KNeighborsClassifier(9)))\n",
    "#     basedModels.append(('KNN11'  , KNeighborsClassifier(11)))\n",
    "#     basedModels.append(('CART' , DecisionTreeClassifier()))\n",
    "#     basedModels.append(('NB'   , GaussianNB()))\n",
    "#     basedModels.append(('SVM Linear'  , SVC(kernel='linear',gamma='auto',probability=True)))\n",
    "#     basedModels.append(('SVM RBF'  , SVC(kernel='rbf',gamma='auto',probability=True)))\n",
    "#     basedModels.append(('AB'   , AdaBoostClassifier()))\n",
    "#     basedModels.append(('GBM'  , GradientBoostingClassifier(n_estimators=100,max_features='sqrt')))\n",
    "#     basedModels.append(('RF_Ent100'   , RandomForestClassifier(criterion='entropy',n_estimators=100)))\n",
    "#     basedModels.append(('RF_Gini100'   , RandomForestClassifier(criterion='gini',n_estimators=100)))\n",
    "#     basedModels.append(('ET100'   , ExtraTreesClassifier(n_estimators= 100)))\n",
    "#     basedModels.append(('ET500'   , ExtraTreesClassifier(n_estimators= 500)))\n",
    "#     basedModels.append(('MLP', MLPClassifier()))\n",
    "#     basedModels.append(('SGD3000', SGDClassifier(max_iter=1000, tol=1e-4)))\n",
    "#     basedModels.append(('XGB_2000', xgb.sklearn.XGBClassifier(n_estimators= 2000)))\n",
    "#     basedModels.append(('XGB_500', xgb.sklearn.XGBClassifier(n_estimators= 500)))\n",
    "#     basedModels.append(('XGB_100', xgb.sklearn.XGBClassifier(n_estimators= 100)))\n",
    "#     basedModels.append(('XGB_1000', xgb.sklearn.XGBClassifier(n_estimators= 1000)))\n",
    "#     basedModels.append(('ET1000'   , ExtraTreesClassifier(n_estimators= 1000)))\n",
    "    \n",
    "#     return basedModels\n",
    "\n",
    "# # function for performing 10-fold cross validation of all the baseline models\n",
    "# def BasedLine2(X_train, y_train,models):\n",
    "#     # Test options and evaluation metric\n",
    "#     num_folds = 10\n",
    "#     scoring = 'recall'\n",
    "#     results = []\n",
    "#     names = []\n",
    "#     for name, model in models:\n",
    "#         kfold = model_selection.KFold(n_splits=10)\n",
    "#         cv_results = model_selection.cross_val_score(model, X_train, y_train, cv=kfold, scoring=scoring)\n",
    "#         results.append(cv_results)\n",
    "#         names.append(name)\n",
    "#         msg = \"%s: %f (%f)\" % (name, cv_results.mean(), cv_results.std())\n",
    "#         print(msg)\n",
    "         \n",
    "        \n",
    "#     return results,msg"
   ]
  },
  {
   "cell_type": "code",
   "execution_count": 34,
   "id": "4939ec87-34bf-4d47-85ba-9357e654c9d0",
   "metadata": {},
   "outputs": [],
   "source": [
    "# modeclassification_reporttBasedModel()\n",
    "# names,results = BasedLine2(X_train, y_train,models)"
   ]
  },
  {
   "cell_type": "markdown",
   "id": "725d577c-025a-4ffd-ab87-316c190558cc",
   "metadata": {},
   "source": [
    "## Precision Scores\n",
    "- LR_L2: 0.519203 (0.111816)\n",
    "- LDA: 0.182667 (0.026256)\n",
    "- KNN7: 0.432639 (0.104596)\n",
    "- KNN5: 0.351383 (0.114681)\n",
    "- KNN9: 0.427019 (0.129902)\n",
    "- KNN11: 0.460542 (0.125037)\n",
    "- CART: 0.122109 (0.016014)\n",
    "- NB: 0.058421 (0.006606)\n",
    "- AB: 0.668102 (0.107318)\n",
    "- GBM: 0.724387 (0.079425)\n",
    "- RF_Ent100: 0.810095 (0.065109)\n",
    "- RF_Gini100: 0.780269 (0.069372)\n",
    "- ET100: 0.597972 (0.104945)\n",
    "- ET500: 0.612026 (0.112296)\n",
    "- MLP: 0.570092 (0.062656)\n",
    "- SGD3000: 0.156812 (0.198169)"
   ]
  },
  {
   "cell_type": "markdown",
   "id": "ac89be29-0fa8-4f6e-b438-ee6f97cb47ed",
   "metadata": {},
   "source": [
    "## Recall Scores\n",
    "- LR_L2: 0.023354 (0.006576)\n",
    "- AB: 0.058246 (0.011715)\n",
    "- GBM: 0.071433 (0.012711)\n",
    "- RF_Ent100: 0.073517 (0.010757)\n",
    "- ET100: 0.041300 (0.009057)\n",
    "- MLP: 0.038299 (0.010671)\n",
    "- SGD3000: 0.039039 (0.044570)\n",
    "- XGB_500: 0.097123 (0.012894)\n",
    "- XGB_1000: 0.095503 (0.008709)"
   ]
  },
  {
   "cell_type": "markdown",
   "id": "43646d9c-c2cf-440e-873b-24728d4dffa7",
   "metadata": {},
   "source": [
    "#### Algorithms we will consider:\n",
    "- Logistic Regression\n",
    "- LDA\n",
    "- AdaBoost\n",
    "- Gradient Boosting\n",
    "- RandomForest\n",
    "- MLP\n",
    "- XGBoost"
   ]
  },
  {
   "cell_type": "markdown",
   "id": "69389306-ccd7-4a6b-9bc6-50e9a7d98ebf",
   "metadata": {},
   "source": [
    "#### Undersampling\n",
    "- Logreg\n",
    "- LDA\n",
    "- KNN7\n",
    "- Knn9\n",
    "- KNN11\n",
    "- CART\n",
    "- AB\n",
    "- GBM\n",
    "- Randomforest\n",
    "- Extratrees\n",
    "- MLP\n",
    "- XGB"
   ]
  },
  {
   "cell_type": "markdown",
   "id": "e800afde-0a2c-44fc-9640-2f5904688f06",
   "metadata": {},
   "source": [
    "#### SMOTE\n",
    "- Logistic\n",
    "- LDA\n",
    "- AB\n",
    "- GBM"
   ]
  },
  {
   "cell_type": "code",
   "execution_count": 56,
   "id": "31f37064-e8e9-409a-8204-ddab91192141",
   "metadata": {},
   "outputs": [],
   "source": [
    "#train6.to_csv('Preprocessed_train.csv')"
   ]
  },
  {
   "cell_type": "code",
   "execution_count": 197,
   "id": "17205449-3b0c-4d1b-b39a-3995b4a12ebf",
   "metadata": {},
   "outputs": [
    {
     "data": {
      "text/plain": [
       "BalancedRandomForestClassifier(n_jobs=-1)"
      ]
     },
     "execution_count": 197,
     "metadata": {},
     "output_type": "execute_result"
    }
   ],
   "source": [
    "from imblearn.ensemble import BalancedRandomForestClassifier\n",
    "brfc = BalancedRandomForestClassifier(n_jobs=-1)\n",
    "brfc.fit(X_train,np.array(y_train['cancelled'].ravel()))"
   ]
  },
  {
   "cell_type": "code",
   "execution_count": 198,
   "id": "2f064629-0edd-4222-912c-d584fe6b490b",
   "metadata": {},
   "outputs": [
    {
     "data": {
      "text/plain": [
       "0.6868656720407356"
      ]
     },
     "execution_count": 198,
     "metadata": {},
     "output_type": "execute_result"
    }
   ],
   "source": [
    "from sklearn.metrics import roc_auc_score\n",
    "roc_auc_score(y_test, brfc.predict(X_test))"
   ]
  },
  {
   "cell_type": "code",
   "execution_count": 216,
   "id": "4b9c78e8-8cff-434f-8bd3-cdbe14a07c73",
   "metadata": {},
   "outputs": [],
   "source": [
    "from imblearn.over_sampling import ADASYN\n",
    "sampler = ADASYN()\n",
    "X_over, y_over = sampler.fit_resample(X_train, y_train)"
   ]
  },
  {
   "cell_type": "code",
   "execution_count": 74,
   "id": "cbc43224-70ed-415f-bee3-df3e7edee34c",
   "metadata": {},
   "outputs": [
    {
     "data": {
      "text/plain": [
       "LogisticRegression()"
      ]
     },
     "execution_count": 74,
     "metadata": {},
     "output_type": "execute_result"
    }
   ],
   "source": [
    "from sklearn.linear_model import LogisticRegression\n",
    "logreg = LogisticRegression()\n",
    "logreg.fit(X_over, np.array(y_over).ravel())"
   ]
  },
  {
   "cell_type": "code",
   "execution_count": 75,
   "id": "a9b70a32-3a35-4c4f-8158-e233fb0e4020",
   "metadata": {},
   "outputs": [
    {
     "data": {
      "text/plain": [
       "0.6181313742122663"
      ]
     },
     "execution_count": 75,
     "metadata": {},
     "output_type": "execute_result"
    }
   ],
   "source": [
    "roc_auc_score(y_test, logreg.predict(X_test))"
   ]
  },
  {
   "cell_type": "code",
   "execution_count": 76,
   "id": "679ee15e-8c2a-464e-bd50-1a72d19fb973",
   "metadata": {},
   "outputs": [
    {
     "data": {
      "text/plain": [
       "RandomForestClassifier(criterion='entropy', max_depth=7, n_jobs=-1)"
      ]
     },
     "execution_count": 76,
     "metadata": {},
     "output_type": "execute_result"
    }
   ],
   "source": [
    "from sklearn.ensemble import RandomForestClassifier\n",
    "rfc = RandomForestClassifier(n_jobs=-1, criterion='entropy',max_depth=7)\n",
    "rfc.fit(X_over,np.array(y_over).ravel())"
   ]
  },
  {
   "cell_type": "code",
   "execution_count": 77,
   "id": "8fb57886-d544-42b7-90cb-59c7a7dca501",
   "metadata": {},
   "outputs": [
    {
     "data": {
      "text/plain": [
       "0.625063521107632"
      ]
     },
     "execution_count": 77,
     "metadata": {},
     "output_type": "execute_result"
    }
   ],
   "source": [
    "roc_auc_score(y_test, rfc.predict(X_test))"
   ]
  },
  {
   "cell_type": "code",
   "execution_count": 78,
   "id": "0966a2b6-cf1e-4551-bb8a-c4b2976d5562",
   "metadata": {},
   "outputs": [
    {
     "data": {
      "text/plain": [
       "RUSBoostClassifier(learning_rate=0.1, n_estimators=100)"
      ]
     },
     "execution_count": 78,
     "metadata": {},
     "output_type": "execute_result"
    }
   ],
   "source": [
    "from imblearn.ensemble import RUSBoostClassifier\n",
    "rusbc = RUSBoostClassifier(n_estimators=100, learning_rate=0.1)\n",
    "rusbc.fit(X_train,np.array(y_train).ravel())"
   ]
  },
  {
   "cell_type": "code",
   "execution_count": 79,
   "id": "b4c422f7-7076-4037-a2ff-2e578e857bc9",
   "metadata": {},
   "outputs": [
    {
     "data": {
      "text/plain": [
       "0.683663606807305"
      ]
     },
     "execution_count": 79,
     "metadata": {},
     "output_type": "execute_result"
    }
   ],
   "source": [
    "roc_auc_score(y_test, rusbc.predict(X_test))"
   ]
  },
  {
   "cell_type": "code",
   "execution_count": 203,
   "id": "8ee116b9-ee6f-42e9-8590-13af6c51bd22",
   "metadata": {},
   "outputs": [
    {
     "data": {
      "text/plain": [
       "array([130231, 130232, 130233, ...,  41186,  41187,  41188], dtype=int64)"
      ]
     },
     "execution_count": 203,
     "metadata": {},
     "output_type": "execute_result"
    }
   ],
   "source": [
    "np.array(raw_test.order_id)"
   ]
  },
  {
   "cell_type": "code",
   "execution_count": 206,
   "id": "4873515f-afc6-46b2-964c-69f545f95f69",
   "metadata": {},
   "outputs": [
    {
     "data": {
      "text/plain": [
       "0         130231\n",
       "1         130232\n",
       "2         130233\n",
       "3         130234\n",
       "4         130235\n",
       "           ...  \n",
       "144839     41184\n",
       "144840     41185\n",
       "144841     41186\n",
       "144842     41187\n",
       "144843     41188\n",
       "Name: order_id, Length: 144844, dtype: int64"
      ]
     },
     "execution_count": 206,
     "metadata": {},
     "output_type": "execute_result"
    }
   ],
   "source": [
    "raw_test.order_id"
   ]
  },
  {
   "cell_type": "code",
   "execution_count": null,
   "id": "51fe1cb1-7361-4966-92fe-3bf0fe38ceb1",
   "metadata": {},
   "outputs": [],
   "source": [
    "import xgboost as xgb\n",
    "xgboost = xgb.sklearn.XGBClassifier(n_estimators=100,booster='dart',n_jobs=-1)\n",
    "xgboost.fit(X_over,y_over)"
   ]
  },
  {
   "cell_type": "code",
   "execution_count": 223,
   "id": "f65db7ca-9494-458d-a272-1cd28977192c",
   "metadata": {},
   "outputs": [
    {
     "data": {
      "text/plain": [
       "0.5751827579423116"
      ]
     },
     "execution_count": 223,
     "metadata": {},
     "output_type": "execute_result"
    }
   ],
   "source": [
    "roc_auc_score(y_test,xgboost.predict(X_test))"
   ]
  },
  {
   "cell_type": "code",
   "execution_count": null,
   "id": "d0e2ee3d-feb5-49df-a530-e370afface66",
   "metadata": {},
   "outputs": [],
   "source": [
    "xgrf = xgb.sklearn.XGBRFClassifier()\n",
    "xgrf.fit(X_over,y_over)"
   ]
  },
  {
   "cell_type": "code",
   "execution_count": 221,
   "id": "ddf3040d-ad45-4c8b-b05b-3f8773642898",
   "metadata": {},
   "outputs": [
    {
     "data": {
      "text/plain": [
       "0.6171754414273065"
      ]
     },
     "execution_count": 221,
     "metadata": {},
     "output_type": "execute_result"
    }
   ],
   "source": [
    "roc_auc_score(y_test, xgrf.predict(X_test))"
   ]
  },
  {
   "cell_type": "code",
   "execution_count": 460,
   "id": "7c7b6809-5668-4194-ac5a-a4e51345451f",
   "metadata": {},
   "outputs": [],
   "source": [
    "from imblearn.under_sampling import RandomUnderSampler\n",
    "X_rus, y_rus = RandomUnderSampler(sampling_strategy=1).fit_resample(X_train, y_train)"
   ]
  },
  {
   "cell_type": "code",
   "execution_count": null,
   "id": "ea6e68ae-d219-4c2a-a8dc-7b942d4f9512",
   "metadata": {},
   "outputs": [],
   "source": [
    "from sklearn.ensemble import GradientBoostingClassifier\n",
    "gbm = GradientBoostingClassifier(max_features='sqrt',n_estimators=100)\n",
    "gbm.fit(X_rus,y_rus)"
   ]
  },
  {
   "cell_type": "code",
   "execution_count": 227,
   "id": "458a3885-024c-457f-ae3a-10b3c4a4ff35",
   "metadata": {},
   "outputs": [
    {
     "data": {
      "text/plain": [
       "0.6838053312646308"
      ]
     },
     "execution_count": 227,
     "metadata": {},
     "output_type": "execute_result"
    }
   ],
   "source": [
    "roc_auc_score(y_test,gbm.predict(X_test))"
   ]
  },
  {
   "cell_type": "code",
   "execution_count": null,
   "id": "3052b6c2-761f-4d50-a182-48a3e6a85111",
   "metadata": {},
   "outputs": [],
   "source": [
    "from sklearn.ensemble import AdaBoostClassifier\n",
    "ada = AdaBoostClassifier(n_estimators=100,learning_rate=0.1)\n",
    "ada.fit(X_rus,y_rus)"
   ]
  },
  {
   "cell_type": "code",
   "execution_count": 308,
   "id": "e0e2492a-e35a-4c31-bc3b-8be6efa51bc3",
   "metadata": {},
   "outputs": [
    {
     "data": {
      "text/plain": [
       "0.6865035495889722"
      ]
     },
     "execution_count": 308,
     "metadata": {},
     "output_type": "execute_result"
    }
   ],
   "source": [
    "roc_auc_score(y_test,ada.predict(X_test))"
   ]
  },
  {
   "cell_type": "code",
   "execution_count": null,
   "id": "e2eb979b-91a0-49d7-b1be-f03d9ef3b087",
   "metadata": {},
   "outputs": [],
   "source": [
    "ada2 = AdaBoostClassifier(n_estimators=100,learning_rate=0.1)\n",
    "ada2.fit(X_over,y_over)"
   ]
  },
  {
   "cell_type": "code",
   "execution_count": 310,
   "id": "6c0cd9ac-c7e9-4f56-b36c-b8c531374576",
   "metadata": {},
   "outputs": [
    {
     "data": {
      "text/plain": [
       "0.6483335086723738"
      ]
     },
     "execution_count": 310,
     "metadata": {},
     "output_type": "execute_result"
    }
   ],
   "source": [
    "roc_auc_score(y_test,ada2.predict(X_test))"
   ]
  },
  {
   "cell_type": "code",
   "execution_count": 495,
   "id": "44caaa86-4863-4e4f-ac1f-56e419f45184",
   "metadata": {},
   "outputs": [],
   "source": [
    "y_rus = np.array(y_rus).ravel()\n",
    "y_train = np.array(y_train).ravel()\n",
    "y_over = np.array(y_over).ravel()"
   ]
  },
  {
   "cell_type": "markdown",
   "id": "31397877-18b6-4008-9000-14226bbcdef5",
   "metadata": {},
   "source": [
    "#### Algorithms we will consider:\n",
    "- Logistic Regression\n",
    "- LDA\n",
    "- AdaBoost\n",
    "- Gradient Boosting\n",
    "- RandomForest\n",
    "- MLP\n",
    "- XGBoost"
   ]
  },
  {
   "cell_type": "markdown",
   "id": "468ac673-6849-4093-a22b-54d1765aef68",
   "metadata": {},
   "source": [
    "# Logistic Regression"
   ]
  },
  {
   "cell_type": "code",
   "execution_count": 470,
   "id": "090b6d59-9156-49d2-9121-8691c327ff27",
   "metadata": {},
   "outputs": [
    {
     "data": {
      "text/plain": [
       "0.6537585661276596"
      ]
     },
     "execution_count": 470,
     "metadata": {},
     "output_type": "execute_result"
    }
   ],
   "source": [
    "from sklearn.model_selection import GridSearchCV\n",
    "logreg = LogisticRegression(solver='newton-cg',max_iter=200)\n",
    "logreg.fit(X_rus,y_rus)\n",
    "roc_auc_score(y_test,logreg.predict(X_test))"
   ]
  },
  {
   "cell_type": "markdown",
   "id": "ae4bf317-7d48-4d22-b8df-58eec61db4d6",
   "metadata": {},
   "source": [
    "Best ROC_AUC_SCORE for undersampled Logreg: 0.6518772452257546"
   ]
  },
  {
   "cell_type": "markdown",
   "id": "e0779fb4-d70d-4f1b-b826-26447259903a",
   "metadata": {},
   "source": [
    "# LDA"
   ]
  },
  {
   "cell_type": "code",
   "execution_count": 490,
   "id": "34719514-12a3-4bc4-8e1c-4690a0fa3df7",
   "metadata": {},
   "outputs": [
    {
     "data": {
      "text/plain": [
       "0.6506587457753593"
      ]
     },
     "execution_count": 490,
     "metadata": {},
     "output_type": "execute_result"
    }
   ],
   "source": [
    "from sklearn.discriminant_analysis import LinearDiscriminantAnalysis\n",
    "lda = LinearDiscriminantAnalysis()\n",
    "lda.fit(X_rus,y_rus)\n",
    "roc_auc_score(y_test,lda.predict(X_test)) "
   ]
  },
  {
   "cell_type": "markdown",
   "id": "5dbf0144-452f-483b-b4d9-68db50786941",
   "metadata": {},
   "source": [
    "# AdaBoost"
   ]
  },
  {
   "cell_type": "code",
   "execution_count": 492,
   "id": "1eead1ba-3003-4fa0-9267-4f0640a29f7e",
   "metadata": {},
   "outputs": [
    {
     "data": {
      "text/plain": [
       "0.6836553347421316"
      ]
     },
     "execution_count": 492,
     "metadata": {},
     "output_type": "execute_result"
    }
   ],
   "source": [
    "from sklearn.ensemble import AdaBoostClassifier\n",
    "ada = AdaBoostClassifier(n_estimators=100,algorithm='SAMME')\n",
    "ada.fit(X_rus,y_rus)\n",
    "roc_auc_score(y_test,ada.predict(X_test))"
   ]
  },
  {
   "cell_type": "markdown",
   "id": "a4add781-cf5f-48c5-a0eb-c79b0d940f30",
   "metadata": {},
   "source": [
    "# GradientBoosting"
   ]
  },
  {
   "cell_type": "code",
   "execution_count": 493,
   "id": "6adf7fe8-fbd6-4f84-8e46-957e6df796b5",
   "metadata": {},
   "outputs": [
    {
     "data": {
      "text/plain": [
       "0.6899857441330499"
      ]
     },
     "execution_count": 493,
     "metadata": {},
     "output_type": "execute_result"
    }
   ],
   "source": [
    "from sklearn.ensemble import GradientBoostingClassifier\n",
    "gbc = GradientBoostingClassifier()\n",
    "gbc.fit(X_rus,y_rus)\n",
    "roc_auc_score(y_test,gbc.predict(X_test))"
   ]
  },
  {
   "cell_type": "markdown",
   "id": "d1b13903-150e-4b14-9526-3c54f99f173d",
   "metadata": {},
   "source": [
    "# Random Forest"
   ]
  },
  {
   "cell_type": "code",
   "execution_count": 496,
   "id": "86e09a39-3a10-40cd-809b-635007cca19d",
   "metadata": {},
   "outputs": [
    {
     "data": {
      "text/plain": [
       "0.5415829602829535"
      ]
     },
     "execution_count": 496,
     "metadata": {},
     "output_type": "execute_result"
    }
   ],
   "source": [
    "from sklearn.ensemble import RandomForestClassifier\n",
    "rfc = RandomForestClassifier(n_estimators=100)\n",
    "rfc.fit(X_train,y_train)\n",
    "roc_auc_score(y_test,rfc.predict(X_test))"
   ]
  },
  {
   "cell_type": "code",
   "execution_count": 497,
   "id": "45ed88e3-e2fa-4f2a-af44-e4cf49535963",
   "metadata": {},
   "outputs": [
    {
     "data": {
      "text/plain": [
       "0.6755072912676923"
      ]
     },
     "execution_count": 497,
     "metadata": {},
     "output_type": "execute_result"
    }
   ],
   "source": [
    "rfc = RandomForestClassifier(n_estimators=100)\n",
    "rfc.fit(X_rus,y_rus)\n",
    "roc_auc_score(y_test,rfc.predict(X_test))"
   ]
  },
  {
   "cell_type": "code",
   "execution_count": 498,
   "id": "79e47c03-80a5-45c9-a7b3-3007e82bf04b",
   "metadata": {},
   "outputs": [
    {
     "data": {
      "text/plain": [
       "0.5695793633842354"
      ]
     },
     "execution_count": 498,
     "metadata": {},
     "output_type": "execute_result"
    }
   ],
   "source": [
    "rfc = RandomForestClassifier(n_estimators=100)\n",
    "rfc.fit(X_over,y_over)\n",
    "roc_auc_score(y_test,rfc.predict(X_test))"
   ]
  },
  {
   "cell_type": "markdown",
   "id": "d5f25abd-2b39-44a9-8237-bdd13a51df49",
   "metadata": {},
   "source": [
    "# MLP"
   ]
  },
  {
   "cell_type": "code",
   "execution_count": 499,
   "id": "31933832-598c-4a11-af8e-46d347ef9244",
   "metadata": {},
   "outputs": [
    {
     "data": {
      "text/plain": [
       "0.5123741149307909"
      ]
     },
     "execution_count": 499,
     "metadata": {},
     "output_type": "execute_result"
    }
   ],
   "source": [
    "from sklearn.neural_network import MLPClassifier\n",
    "mlp = MLPClassifier()\n",
    "mlp.fit(X_train,y_train)\n",
    "roc_auc_score(y_test,mlp.predict(X_test))"
   ]
  },
  {
   "cell_type": "code",
   "execution_count": 500,
   "id": "9fc2b4b2-f0e6-4c56-9f89-0973851cd594",
   "metadata": {},
   "outputs": [
    {
     "data": {
      "text/plain": [
       "0.6524606225177945"
      ]
     },
     "execution_count": 500,
     "metadata": {},
     "output_type": "execute_result"
    }
   ],
   "source": [
    "mlp = MLPClassifier()\n",
    "mlp.fit(X_rus,y_rus)\n",
    "roc_auc_score(y_test,mlp.predict(X_test))"
   ]
  },
  {
   "cell_type": "code",
   "execution_count": 501,
   "id": "15af6ff2-f516-496e-91ce-3bdfeeded266",
   "metadata": {},
   "outputs": [
    {
     "data": {
      "text/plain": [
       "0.6437041214963857"
      ]
     },
     "execution_count": 501,
     "metadata": {},
     "output_type": "execute_result"
    }
   ],
   "source": [
    "mlp = MLPClassifier()\n",
    "mlp.fit(X_over,y_over)\n",
    "roc_auc_score(y_test,mlp.predict(X_test))"
   ]
  },
  {
   "cell_type": "markdown",
   "id": "51ad7e91-1209-4116-ae11-51885856f611",
   "metadata": {},
   "source": [
    "# XGBoost"
   ]
  },
  {
   "cell_type": "code",
   "execution_count": null,
   "id": "ae4f265c-7076-44cb-8ce6-f622ed9f6d26",
   "metadata": {},
   "outputs": [],
   "source": [
    "import xgboost as xgb\n",
    "xgboost = xgb.sklearn.XGBClassifier()\n",
    "xgboost.fit(X_train,y_train)\n",
    "roc_auc_score(y_test,xgboost.predict(X_test))"
   ]
  },
  {
   "cell_type": "code",
   "execution_count": null,
   "id": "61a49f07-2c35-40c7-b337-d21e3716e89e",
   "metadata": {},
   "outputs": [],
   "source": [
    "xgboost = xgb.sklearn.XGBClassifier()\n",
    "xgboost.fit(X_rus,y_rus)\n",
    "roc_auc_score(y_test,xgboost.predict(X_test))"
   ]
  },
  {
   "cell_type": "code",
   "execution_count": null,
   "id": "1a0c554b-15a6-4cea-b197-876a1d111e01",
   "metadata": {},
   "outputs": [],
   "source": [
    "xgboost = xgb.sklearn.XGBClassifier()\n",
    "xgboost.fit(X_over,y_over)\n",
    "roc_auc_score(y_test,xgboost.predict(X_test))"
   ]
  },
  {
   "cell_type": "markdown",
   "id": "9fc4bc1a-aa47-4053-97d3-be2456acf6d5",
   "metadata": {},
   "source": [
    "# Code for creating a submission file"
   ]
  },
  {
   "cell_type": "code",
   "execution_count": 208,
   "id": "19020d1a-611f-419f-a2d8-b52dbe31ed42",
   "metadata": {},
   "outputs": [],
   "source": [
    "cancelled=pd.Series(brfc.predict(test))"
   ]
  },
  {
   "cell_type": "code",
   "execution_count": 200,
   "id": "44fda0b2-9f40-45c1-a7bf-730fa2bfaf2f",
   "metadata": {},
   "outputs": [],
   "source": [
    "raw_test = pd.read_csv('test.csv')"
   ]
  },
  {
   "cell_type": "code",
   "execution_count": 211,
   "id": "64ccc7b5-68b1-48ec-8f7f-755a08181643",
   "metadata": {},
   "outputs": [],
   "source": [
    "pd.DataFrame({'order_id':raw_test.order_id,'cancelled':cancelled}).to_csv(\"submissions1.csv\",index=False)"
   ]
  },
  {
   "cell_type": "code",
   "execution_count": 52,
   "id": "cb484562-5854-49d8-ad50-02a0286868f8",
   "metadata": {},
   "outputs": [
    {
     "name": "stdout",
     "output_type": "stream",
     "text": [
      "<class 'pandas.core.frame.DataFrame'>\n",
      "Int64Index: 449999 entries, 0 to 449999\n",
      "Data columns (total 14 columns):\n",
      " #   Column                Non-Null Count   Dtype  \n",
      "---  ------                --------------   -----  \n",
      " 0   order_time            449999 non-null  object \n",
      " 1   order_id              449999 non-null  int64  \n",
      " 2   order_date            449999 non-null  object \n",
      " 3   allot_time            449999 non-null  object \n",
      " 4   accept_time           449842 non-null  object \n",
      " 5   rider_id              449999 non-null  int64  \n",
      " 6   first_mile_distance   449999 non-null  float64\n",
      " 7   last_mile_distance    449999 non-null  float64\n",
      " 8   alloted_orders        449999 non-null  float64\n",
      " 9   delivered_orders      449999 non-null  float64\n",
      " 10  cancelled             449999 non-null  int64  \n",
      " 11  undelivered_orders    449999 non-null  float64\n",
      " 12  lifetime_order_count  449999 non-null  float64\n",
      " 13  session_time          449999 non-null  float64\n",
      "dtypes: float64(7), int64(3), object(4)\n",
      "memory usage: 51.5+ MB\n"
     ]
    }
   ],
   "source": [
    "train4.info()"
   ]
  },
  {
   "cell_type": "code",
   "execution_count": 49,
   "id": "4f95ade3-dc4c-4ea7-89af-d83ee920f685",
   "metadata": {},
   "outputs": [],
   "source": [
    "train4.drop(['pickup_time','delivered_time'],axis=1,inplace=True)"
   ]
  },
  {
   "cell_type": "code",
   "execution_count": 51,
   "id": "ec256f75-00f8-4f8c-a03d-b973783abeaf",
   "metadata": {},
   "outputs": [],
   "source": [
    "train4.drop(['reassignment_method','reassignment_reason','reassigned_order'],axis=1,inplace=True)"
   ]
  },
  {
   "cell_type": "code",
   "execution_count": 53,
   "id": "9ab39c58-d397-4a26-9c29-e573d0add3ec",
   "metadata": {},
   "outputs": [],
   "source": [
    "train4.drop('order_date',axis=1,inplace=True)"
   ]
  },
  {
   "cell_type": "code",
   "execution_count": 54,
   "id": "29ff6e6a-5c05-4cd6-a140-57f9ba24260f",
   "metadata": {},
   "outputs": [],
   "source": [
    "train4.to_csv('train2.csv',index=False)"
   ]
  },
  {
   "cell_type": "code",
   "execution_count": 55,
   "id": "ded0e0fe-fa89-40ba-80ef-2c63a6990b6d",
   "metadata": {},
   "outputs": [],
   "source": [
    "train5 = train4.dropna()"
   ]
  },
  {
   "cell_type": "code",
   "execution_count": 61,
   "id": "21a38fa6-d024-4922-b56a-be8f7de87b29",
   "metadata": {},
   "outputs": [
    {
     "name": "stdout",
     "output_type": "stream",
     "text": [
      "<class 'pandas.core.frame.DataFrame'>\n",
      "Int64Index: 449842 entries, 0 to 449999\n",
      "Data columns (total 12 columns):\n",
      " #   Column                Non-Null Count   Dtype  \n",
      "---  ------                --------------   -----  \n",
      " 0   order_time            449842 non-null  object \n",
      " 1   allot_time            449842 non-null  object \n",
      " 2   accept_time           449842 non-null  object \n",
      " 3   rider_id              449842 non-null  int64  \n",
      " 4   first_mile_distance   449842 non-null  float64\n",
      " 5   last_mile_distance    449842 non-null  float64\n",
      " 6   alloted_orders        449842 non-null  float64\n",
      " 7   delivered_orders      449842 non-null  float64\n",
      " 8   cancelled             449842 non-null  int64  \n",
      " 9   undelivered_orders    449842 non-null  float64\n",
      " 10  lifetime_order_count  449842 non-null  float64\n",
      " 11  session_time          449842 non-null  float64\n",
      "dtypes: float64(7), int64(2), object(3)\n",
      "memory usage: 44.6+ MB\n"
     ]
    }
   ],
   "source": [
    "train5.info()"
   ]
  },
  {
   "cell_type": "code",
   "execution_count": 60,
   "id": "568b20d5-c50d-4cfa-8428-8091f719af1e",
   "metadata": {},
   "outputs": [],
   "source": [
    "#train5.drop('order_id',axis=1,inplace=True)"
   ]
  },
  {
   "cell_type": "code",
   "execution_count": 5,
   "id": "f5bf974f-7842-48b8-b5df-50f9a4053b55",
   "metadata": {},
   "outputs": [
    {
     "data": {
      "text/plain": [
       "LGBMClassifier(boosting_type='goss', class_weight='balanced', max_depth=4,\n",
       "               n_estimators=240, num_leaves=10)"
      ]
     },
     "execution_count": 5,
     "metadata": {},
     "output_type": "execute_result"
    }
   ],
   "source": [
    "import lightgbm\n",
    "lgbm = lightgbm.LGBMClassifier(boosting_type='goss',n_estimators=240,max_depth=4,num_leaves=10,class_weight='balanced')#,subsample=0.5,subsample_freq=7)\n",
    "lgbm.fit(X_train,np.array(y_train).ravel())"
   ]
  },
  {
   "cell_type": "code",
   "execution_count": 7,
   "id": "b1b4d8eb-60dc-4b74-a6b4-e34f3672b9da",
   "metadata": {},
   "outputs": [
    {
     "data": {
      "text/plain": [
       "0.6862090586798316"
      ]
     },
     "execution_count": 7,
     "metadata": {},
     "output_type": "execute_result"
    }
   ],
   "source": [
    "from sklearn.metrics import roc_auc_score\n",
    "roc_auc_score(y_test,lgbm.predict(X_test))"
   ]
  },
  {
   "cell_type": "code",
   "execution_count": 280,
   "id": "34231185-f3a0-4f12-8b87-bf4ae2f3e584",
   "metadata": {},
   "outputs": [],
   "source": [
    "from imblearn.under_sampling import RandomUnderSampler\n",
    "from imblearn.over_sampling import RandomOverSampler\n",
    "under = RandomUnderSampler()\n",
    "over = RandomOverSampler(sampling_strategy=0.7)\n",
    "X_over, y_over = over.fit_resample(X_train,y_train)\n",
    "X_under,y_under = under.fit_resample(X_over,y_over)"
   ]
  },
  {
   "cell_type": "code",
   "execution_count": 281,
   "id": "75952434-b58d-4c34-a5dd-e0a50e7e5c94",
   "metadata": {},
   "outputs": [
    {
     "data": {
      "text/plain": [
       "LGBMClassifier(max_depth=4, min_child_samples=500, n_estimators=70,\n",
       "               num_leaves=5, subsample=0.45, subsample_freq=10)"
      ]
     },
     "execution_count": 281,
     "metadata": {},
     "output_type": "execute_result"
    }
   ],
   "source": [
    "lgbm = lightgbm.LGBMClassifier(boosting_type='gbdt',n_estimators=70,max_depth=4,num_leaves=5,subsample=0.45,subsample_freq=10,min_child_samples=500,)\n",
    "lgbm.fit(X_under,np.array(y_under).ravel())"
   ]
  },
  {
   "cell_type": "code",
   "execution_count": 282,
   "id": "53c8e84a-a632-44a9-83df-18c2bc63c27d",
   "metadata": {},
   "outputs": [
    {
     "data": {
      "text/plain": [
       "0.6840289680285598"
      ]
     },
     "execution_count": 282,
     "metadata": {},
     "output_type": "execute_result"
    }
   ],
   "source": [
    "roc_auc_score(y_test,lgbm.predict(X_test))"
   ]
  },
  {
   "cell_type": "code",
   "execution_count": null,
   "id": "98ffa10b-6675-42b1-88c1-6b0feaef6e4c",
   "metadata": {},
   "outputs": [],
   "source": [
    "from sklearn.ensemble import GradientBoostingClassifier\n",
    "gbm = GradientBoostingClassifier()\n",
    "gbm.fit(X_under,y_under)"
   ]
  },
  {
   "cell_type": "code",
   "execution_count": 284,
   "id": "e89042f4-f7c1-42a8-9178-52a0e1f4acc6",
   "metadata": {},
   "outputs": [
    {
     "data": {
      "text/plain": [
       "0.6860791953400606"
      ]
     },
     "execution_count": 284,
     "metadata": {},
     "output_type": "execute_result"
    }
   ],
   "source": [
    "roc_auc_score(y_test,gbm.predict(X_test))"
   ]
  },
  {
   "cell_type": "code",
   "execution_count": null,
   "id": "3ff78623-41ac-453b-a0a2-acd2d15490b5",
   "metadata": {},
   "outputs": [],
   "source": []
  }
 ],
 "metadata": {
  "kernelspec": {
   "display_name": "Python 3 (ipykernel)",
   "language": "python",
   "name": "python3"
  },
  "language_info": {
   "codemirror_mode": {
    "name": "ipython",
    "version": 3
   },
   "file_extension": ".py",
   "mimetype": "text/x-python",
   "name": "python",
   "nbconvert_exporter": "python",
   "pygments_lexer": "ipython3",
   "version": "3.9.7"
  }
 },
 "nbformat": 4,
 "nbformat_minor": 5
}
